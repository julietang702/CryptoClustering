{
 "cells": [
  {
   "cell_type": "code",
   "execution_count": null,
   "metadata": {
    "colab": {
     "base_uri": "https://localhost:8080/"
    },
    "id": "JxDPcNc0kVzV",
    "outputId": "ad659a95-d9cf-427c-ce2f-e32f98c620a5"
   },
   "outputs": [],
   "source": [
    "pip install -q hvplot"
   ]
  },
  {
   "cell_type": "code",
   "execution_count": null,
   "metadata": {
    "id": "_XSQpEDhlLig"
   },
   "outputs": [],
   "source": [
    "pip install -q holoviews"
   ]
  },
  {
   "cell_type": "code",
   "execution_count": null,
   "metadata": {
    "colab": {
     "base_uri": "https://localhost:8080/"
    },
    "id": "3V3jvNIyk86k",
    "outputId": "830ea807-dcf6-4abd-b9b4-fca02f25bf3a"
   },
   "outputs": [],
   "source": [
    "%env HV_DOC_HTML = True\n"
   ]
  },
  {
   "cell_type": "code",
   "execution_count": null,
   "metadata": {
    "id": "SXDzpF1EkAzT"
   },
   "outputs": [],
   "source": [
    "# Import required libraries and dependencies\n",
    "import pandas as pd\n",
    "import hvplot.pandas\n",
    "from sklearn.cluster import KMeans\n",
    "from sklearn.decomposition import PCA\n",
    "from sklearn.preprocessing import StandardScaler"
   ]
  },
  {
   "cell_type": "code",
   "execution_count": null,
   "metadata": {
    "colab": {
     "base_uri": "https://localhost:8080/",
     "height": 493
    },
    "id": "U-Ps2YkQkAzU",
    "outputId": "d05a341d-7d2a-4e84-de1a-7e0947bb867c"
   },
   "outputs": [],
   "source": [
    "# Load the data into a Pandas DataFrame\n",
    "df_market_data = pd.read_csv(\n",
    "    \"crypto_market_data.csv\",\n",
    "    index_col=\"coin_id\")\n",
    "\n",
    "# Display sample data\n",
    "df_market_data.head(10)"
   ]
  },
  {
   "cell_type": "code",
   "execution_count": null,
   "metadata": {
    "colab": {
     "base_uri": "https://localhost:8080/",
     "height": 364
    },
    "id": "ixrnxiyGkAzV",
    "outputId": "1372b7d4-6a48-4c32-88c7-df9cfd671b84"
   },
   "outputs": [],
   "source": [
    "# Generate summary statistics\n",
    "df_market_data.describe()"
   ]
  },
  {
   "cell_type": "code",
   "execution_count": null,
   "metadata": {
    "colab": {
     "base_uri": "https://localhost:8080/",
     "height": 437
    },
    "id": "X7XVPiYkkAzV",
    "outputId": "e36ba8e2-c35c-4bde-f3bb-ec9f9d1cf287"
   },
   "outputs": [],
   "source": [
    "# Plot your data to see what's in your DataFrame\n",
    "hvplot.extension(\"bokeh\")\n",
    "df_market_data.hvplot.line(\n",
    "    width=800,\n",
    "    height=400,\n",
    "    rot=90\n",
    ")"
   ]
  },
  {
   "cell_type": "markdown",
   "metadata": {
    "id": "ymqAtSx4kAzV"
   },
   "source": [
    "---"
   ]
  },
  {
   "cell_type": "markdown",
   "metadata": {
    "id": "Jn33dKe7kAzV"
   },
   "source": [
    "### Prepare the Data"
   ]
  },
  {
   "cell_type": "code",
   "execution_count": null,
   "metadata": {
    "id": "U6Y8JWhPkAzV"
   },
   "outputs": [],
   "source": [
    "# Use the `StandardScaler()` module from scikit-learn to normalize the data from the CSV file\n",
    "scaledData = StandardScaler().fit_transform(df_market_data)"
   ]
  },
  {
   "cell_type": "code",
   "execution_count": null,
   "metadata": {
    "colab": {
     "base_uri": "https://localhost:8080/",
     "height": 319
    },
    "id": "INDEc9dKkAzW",
    "outputId": "ed51ad29-8926-4e4e-d65d-be45ea180f97"
   },
   "outputs": [],
   "source": [
    "# Create a DataFrame with the scaled data\n",
    "marketDataDF = pd.DataFrame(\n",
    "    scaledData,\n",
    "    columns=df_market_data.columns\n",
    ")\n",
    "\n",
    "# Copy the crypto names from the original data\n",
    "marketDataDF[\"coin_id\"]= df_market_data.index\n",
    "# Set the coinid column as index\n",
    "\n",
    "marketDataDF =marketDataDF.set_index(\"coin_id\")\n",
    "# Display sample data\n",
    "marketDataDF.head()"
   ]
  },
  {
   "cell_type": "markdown",
   "metadata": {
    "id": "9fmYxV9qkAzW"
   },
   "source": [
    "---"
   ]
  },
  {
   "cell_type": "markdown",
   "metadata": {
    "id": "GUdq06-XkAzW"
   },
   "source": [
    "### Find the Best Value for k Using the Original Data."
   ]
  },
  {
   "cell_type": "code",
   "execution_count": null,
   "metadata": {
    "id": "9pAjI0J-kAzW"
   },
   "outputs": [],
   "source": [
    "# Create a list with the number of k-values from 1 to 11\n",
    "kValues = list(range(1,11))"
   ]
  },
  {
   "cell_type": "code",
   "execution_count": null,
   "metadata": {
    "colab": {
     "base_uri": "https://localhost:8080/"
    },
    "id": "Lx_TKHQOkAzW",
    "outputId": "cb81b965-3668-4466-e68b-edf2e5fb4501"
   },
   "outputs": [],
   "source": [
    "# Create an empty list to store the inertia values\n",
    "inertiaValues=[]\n",
    "\n",
    "# Create a for loop to compute the inertia with each possible value of k\n",
    "# Inside the loop:\n",
    "# 1. Create a KMeans model using the loop counter for the n_clusters\n",
    "# 2. Fit the model to the data using `df_market_data_scaled`\n",
    "# 3. Append the model.inertia_ to the inertia list\n",
    "for k in kValues:\n",
    "  kModel = KMeans(n_clusters=k, random_state=0, n_init='auto')\n",
    "  kModel.fit(marketDataDF)\n",
    "  inertiaValues.append(kModel.inertia_)\n",
    "\n",
    "inertiaValues[:5]"
   ]
  },
  {
   "cell_type": "code",
   "execution_count": null,
   "metadata": {
    "colab": {
     "base_uri": "https://localhost:8080/",
     "height": 206
    },
    "id": "QhQ1ksO0kAzW",
    "outputId": "4ce430bb-a21f-4491-a5c5-381b78ec3789"
   },
   "outputs": [],
   "source": [
    "# Create a dictionary with the data to plot the Elbow curve\n",
    "elbowData = {\n",
    "    \"k\": kValues,\n",
    "    \"inertia\": inertiaValues\n",
    "}\n",
    "\n",
    "# Create a DataFrame with the data to plot the Elbow curve\n",
    "elbowDF = pd.DataFrame(elbowData)\n",
    "elbowDF.head()"
   ]
  },
  {
   "cell_type": "code",
   "execution_count": null,
   "metadata": {
    "colab": {
     "base_uri": "https://localhost:8080/",
     "height": 337
    },
    "id": "8x2EyIcGkAzW",
    "outputId": "1898f49c-7bcb-44d5-f65e-7daa358f3cff"
   },
   "outputs": [],
   "source": [
    "# Plot a line chart with all the inertia values computed with\n",
    "# the different values of k to visually identify the optimal value for k.\n",
    "hvplot.extension(\"bokeh\")\n",
    "elbowPlot= elbowDF.hvplot.line(\n",
    "    x=\"k\",\n",
    "    y=\"inertia\",\n",
    "    title=\"Elbow Curve\",\n",
    "    xticks=kValues\n",
    ")\n",
    "elbowPlot"
   ]
  },
  {
   "cell_type": "markdown",
   "metadata": {
    "id": "s2KiuC54kAzW"
   },
   "source": [
    "#### Answer the following question:\n",
    "\n",
    "**Question:** What is the best value for `k`?\n",
    "\n",
    "**Answer:**"
   ]
  },
  {
   "cell_type": "markdown",
   "metadata": {
    "id": "nYaNDqjQezPo"
   },
   "source": [
    "The best value for \"k\" is 4."
   ]
  },
  {
   "cell_type": "markdown",
   "metadata": {
    "id": "7EgYVf2ikAzW"
   },
   "source": [
    "---"
   ]
  },
  {
   "cell_type": "markdown",
   "metadata": {
    "id": "zlew0PCRkAzW"
   },
   "source": [
    "### Cluster Cryptocurrencies with K-means Using the Original Data"
   ]
  },
  {
   "cell_type": "code",
   "execution_count": null,
   "metadata": {
    "id": "d4bBVhpbkAzW"
   },
   "outputs": [],
   "source": [
    "# Initialize the K-Means model using the best value for k\n",
    "kModel =KMeans(n_clusters=4, n_init='auto')"
   ]
  },
  {
   "cell_type": "code",
   "execution_count": null,
   "metadata": {
    "colab": {
     "base_uri": "https://localhost:8080/",
     "height": 75
    },
    "id": "He9B0aH1kAzW",
    "outputId": "63bb4133-4d39-4c2d-ad89-ef3023683f5e"
   },
   "outputs": [],
   "source": [
    "# Fit the K-Means model using the scaled data\n",
    "kModel.fit(marketDataDF)"
   ]
  },
  {
   "cell_type": "code",
   "execution_count": null,
   "metadata": {
    "colab": {
     "base_uri": "https://localhost:8080/"
    },
    "id": "m7OkP0QhkAzX",
    "outputId": "d6a19be3-3904-4638-be5e-984d5cfd7681"
   },
   "outputs": [],
   "source": [
    "# Predict the clusters to group the cryptocurrencies using the scaled data\n",
    "cryptoPredictions = kModel.predict(marketDataDF)\n",
    "\n",
    "# Print the resulting array of cluster values.\n",
    "cryptoPredictions"
   ]
  },
  {
   "cell_type": "code",
   "execution_count": null,
   "metadata": {
    "id": "GLb6VwCQkAzX"
   },
   "outputs": [],
   "source": [
    "# Create a copy of the DataFrame\n",
    "marketDataPredictionsDF= marketDataDF.copy()"
   ]
  },
  {
   "cell_type": "code",
   "execution_count": null,
   "metadata": {
    "colab": {
     "base_uri": "https://localhost:8080/",
     "height": 239
    },
    "id": "gmfpcGbvkAzX",
    "outputId": "02ffd22c-2a5c-4724-c9ba-3adc696cd377"
   },
   "outputs": [],
   "source": [
    "# Add a new column to the DataFrame with the predicted clusters\n",
    "marketDataPredictionsDF[\"cryptoCluster\"] = cryptoPredictions\n",
    "\n",
    "# Display sample data\n",
    "marketDataPredictionsDF.head(3)"
   ]
  },
  {
   "cell_type": "code",
   "execution_count": null,
   "metadata": {
    "colab": {
     "base_uri": "https://localhost:8080/",
     "height": 337
    },
    "id": "8vkFI2BCkAzX",
    "outputId": "4bcdfb83-7d1b-44a8-de63-e3f29f3f0f1e"
   },
   "outputs": [],
   "source": [
    "# Create a scatter plot using hvPlot by setting\n",
    "# `x=\"price_change_percentage_24h\"` and `y=\"price_change_percentage_7d\"`.\n",
    "# Color the graph points with the labels found using K-Means and\n",
    "# add the crypto name in the `hover_cols` parameter to identify\n",
    "# the cryptocurrency represented by each data point.\n",
    "hvplot.extension(\"bokeh\")\n",
    "\n",
    "clusterPlot = marketDataPredictionsDF.hvplot.scatter(\n",
    "    x=\"price_change_percentage_24h\",\n",
    "    y=\"price_change_percentage_7d\",\n",
    "    by= \"cryptoCluster\",\n",
    "    hover_cols=[\"coin_id\"],\n",
    "    marker=[\"hex\", \"square\",\"cross\",\"triangle\"],\n",
    "    title= \"Crypto Clusters\"\n",
    ")\n",
    "clusterPlot"
   ]
  },
  {
   "cell_type": "markdown",
   "metadata": {
    "id": "pXclBVYbkAzX"
   },
   "source": [
    "---"
   ]
  },
  {
   "cell_type": "markdown",
   "metadata": {
    "id": "bXvn4seckAzX"
   },
   "source": [
    "### Optimize Clusters with Principal Component Analysis."
   ]
  },
  {
   "cell_type": "code",
   "execution_count": null,
   "metadata": {
    "id": "qLLWr029kAzX"
   },
   "outputs": [],
   "source": [
    "# Create a PCA model instance and set `n_components=3`.\n",
    "pcaModel= PCA(n_components=3)\n"
   ]
  },
  {
   "cell_type": "code",
   "execution_count": null,
   "metadata": {
    "colab": {
     "base_uri": "https://localhost:8080/"
    },
    "id": "qdOYo4qhkAzX",
    "outputId": "88981a5d-50be-4eee-ad85-f0829f9b577b"
   },
   "outputs": [],
   "source": [
    "# Use the PCA model with `fit_transform` to reduce to\n",
    "# three principal components.\n",
    "cryptoPCAData = pcaModel.fit_transform(marketDataDF)\n",
    "# View the first five rows of the DataFrame.\n",
    "cryptoPCAData[:5]"
   ]
  },
  {
   "cell_type": "code",
   "execution_count": null,
   "metadata": {
    "colab": {
     "base_uri": "https://localhost:8080/",
     "height": 206
    },
    "id": "RzYmLihKhwdk",
    "outputId": "a7e60f0a-3e1d-43f7-8626-5d51d5fe805a"
   },
   "outputs": [],
   "source": [
    "pd.DataFrame(cryptoPCAData).head()"
   ]
  },
  {
   "cell_type": "code",
   "execution_count": null,
   "metadata": {
    "colab": {
     "base_uri": "https://localhost:8080/"
    },
    "id": "n_NXZwhekAzX",
    "outputId": "e84deb87-86fd-497d-f819-c23b492350d3"
   },
   "outputs": [],
   "source": [
    "# Retrieve the explained variance to determine how much information\n",
    "# can be attributed to each principal component.\n",
    "pcaModel.explained_variance_ratio_"
   ]
  },
  {
   "cell_type": "code",
   "execution_count": null,
   "metadata": {
    "colab": {
     "base_uri": "https://localhost:8080/",
     "height": 207
    },
    "id": "BOMcPhQQh-ye",
    "outputId": "f016e549-2162-4f18-e2b9-e268dfc46ecd"
   },
   "outputs": [],
   "source": [
    "#dump of all features that contributed to variance ratios\n",
    "pd.DataFrame(\n",
    "    pcaModel.components_,\n",
    "    columns= marketDataDF.columns,\n",
    "    index=[\"PC1\",\"PC2\",\"PC3\"]\n",
    "    )"
   ]
  },
  {
   "cell_type": "markdown",
   "metadata": {
    "id": "a8P5pdFakAzX"
   },
   "source": [
    "#### Answer the following question:\n",
    "\n",
    "**Question:** What is the total explained variance of the three principal components?\n",
    "\n",
    "**Answer:** ~89.5%"
   ]
  },
  {
   "cell_type": "code",
   "execution_count": null,
   "metadata": {
    "colab": {
     "base_uri": "https://localhost:8080/",
     "height": 238
    },
    "id": "Yg9Wpz7CkAzX",
    "outputId": "f94d43b2-5b19-430c-8e13-d952ecc20e68"
   },
   "outputs": [],
   "source": [
    "# Create a new DataFrame with the PCA data.\n",
    "pcaDF = pd.DataFrame(\n",
    "    cryptoPCAData,\n",
    "    columns=[\"PC1\", \"PC2\",\"PC3\"]\n",
    ")\n",
    "# Creating a DataFrame with the PCA data\n",
    "\n",
    "# Copy the crypto names from the original data\n",
    "pcaDF[\"coin_id\"]= df_market_data.index\n",
    "\n",
    "# Set the coinid column as index\n",
    "pcaDF= pcaDF.set_index(\"coin_id\")\n",
    "\n",
    "# Display sample data\n",
    "pcaDF.head()"
   ]
  },
  {
   "cell_type": "markdown",
   "metadata": {
    "id": "7M3dXvBYkAzX"
   },
   "source": [
    "---"
   ]
  },
  {
   "cell_type": "markdown",
   "metadata": {
    "id": "IBSaNuv2kAzX"
   },
   "source": [
    "### Find the Best Value for k Using the PCA Data"
   ]
  },
  {
   "cell_type": "code",
   "execution_count": null,
   "metadata": {
    "id": "YJwQ5e-ikAzX"
   },
   "outputs": [],
   "source": [
    "# Create a list with the number of k-values from 1 to 11\n",
    "kValues = list(range(1,11))"
   ]
  },
  {
   "cell_type": "code",
   "execution_count": null,
   "metadata": {
    "colab": {
     "base_uri": "https://localhost:8080/"
    },
    "id": "7DHrENPokAzY",
    "outputId": "69c31feb-cb60-4a6b-aec5-8421753f6522"
   },
   "outputs": [],
   "source": [
    "# Create an empty list to store the inertia values\n",
    "\n",
    "inertiaValues=[]\n",
    "# Create a for loop to compute the inertia with each possible value of k\n",
    "# Inside the loop:\n",
    "# 1. Create a KMeans model using the loop counter for the n_clusters\n",
    "# 2. Fit the model to the data using `df_market_data_pca`\n",
    "# 3. Append the model.inertia_ to the inertia list\n",
    "for k in kValues:\n",
    "  kModel = KMeans(n_clusters=k, random_state=0, n_init='auto')\n",
    "  kModel.fit(pcaDF)\n",
    "  inertiaValues.append(kModel.inertia_)\n",
    "\n",
    "inertiaValues[:5]"
   ]
  },
  {
   "cell_type": "code",
   "execution_count": null,
   "metadata": {
    "colab": {
     "base_uri": "https://localhost:8080/",
     "height": 206
    },
    "id": "Z3a7bQkJkAzY",
    "outputId": "fcf30d30-69ac-460a-c1fd-e9cc50ec0369"
   },
   "outputs": [],
   "source": [
    "# Create a dictionary with the data to plot the Elbow curve\n",
    "pcaElbow={\n",
    "    \"k\": kValues,\n",
    "    \"inertia\": inertiaValues\n",
    "}\n",
    "# Create a DataFrame with the data to plot the Elbow curve\n",
    "pcaElbowDF= pd.DataFrame(pcaElbow)\n",
    "pcaElbowDF.head()"
   ]
  },
  {
   "cell_type": "code",
   "execution_count": null,
   "metadata": {
    "colab": {
     "base_uri": "https://localhost:8080/",
     "height": 337
    },
    "id": "BX9p0_4VkAzY",
    "outputId": "ff2e3c97-79bd-4580-c625-cf3da89a255a"
   },
   "outputs": [],
   "source": [
    "# Plot a line chart with all the inertia values computed with\n",
    "# the different values of k to visually identify the optimal value for k.\n",
    "hvplot.extension(\"bokeh\")\n",
    "pcaElbowPlot = pcaElbowDF.hvplot.line(\n",
    "    x=\"k\",\n",
    "    y=\"inertia\",\n",
    "    title=\"Elbow Curve Using PCA Data\",\n",
    "    xticks=kValues\n",
    ")\n",
    "pcaElbowPlot"
   ]
  },
  {
   "cell_type": "markdown",
   "metadata": {
    "id": "qtC5KW-VkAzY"
   },
   "source": [
    "#### Answer the following questions:\n",
    "\n",
    "* **Question:** What is the best value for `k` when using the PCA data?\n",
    "\n",
    "  * **Answer:**\n",
    "The best value is still '4'\n",
    "\n",
    "* **Question:** Does it differ from the best k value found using the original data?\n",
    "\n",
    "  * **Answer:**\n",
    "  Not really, both values are \"4\""
   ]
  },
  {
   "cell_type": "markdown",
   "metadata": {
    "id": "gDMSw4SwkAzY"
   },
   "source": [
    "### Cluster Cryptocurrencies with K-means Using the PCA Data"
   ]
  },
  {
   "cell_type": "code",
   "execution_count": null,
   "metadata": {
    "id": "sRo4oenbkAzY"
   },
   "outputs": [],
   "source": [
    "# Initialize the K-Means model using the best value for k\n",
    "pcaKModel = KMeans(n_clusters=4, n_init='auto')"
   ]
  },
  {
   "cell_type": "code",
   "execution_count": null,
   "metadata": {
    "colab": {
     "base_uri": "https://localhost:8080/",
     "height": 75
    },
    "id": "nnQ57eK-kAzY",
    "outputId": "380f0524-edc1-4d4d-ff2b-2755a23158d7"
   },
   "outputs": [],
   "source": [
    "# Fit the K-Means model using the PCA data\n",
    "pcaKModel.fit(pcaDF)"
   ]
  },
  {
   "cell_type": "code",
   "execution_count": null,
   "metadata": {
    "colab": {
     "base_uri": "https://localhost:8080/"
    },
    "id": "KAFiYH1ckAzY",
    "outputId": "0539d544-ad38-4a7d-8db8-2a1dc94cea24"
   },
   "outputs": [],
   "source": [
    "# Predict the clusters to group the cryptocurrencies using the PCA data\n",
    "pcaPredictions = pcaKModel.predict(pcaDF)\n",
    "# Print the resulting array of cluster values.\n",
    "pcaPredictions"
   ]
  },
  {
   "cell_type": "code",
   "execution_count": null,
   "metadata": {
    "colab": {
     "base_uri": "https://localhost:8080/",
     "height": 238
    },
    "id": "i1qeizbhkAzY",
    "outputId": "93af7358-81bf-4e1c-e4c6-594191006516"
   },
   "outputs": [],
   "source": [
    "# Create a copy of the DataFrame with the PCA data\n",
    "pcaPredictionsDF= pcaDF.copy()\n",
    "\n",
    "# Add a new column to the DataFrame with the predicted clusters\n",
    "\n",
    "pcaPredictionsDF[\"PCA Predicted Cluster\"]= pcaPredictions\n",
    "# Display sample data\n",
    "pcaPredictionsDF.head()"
   ]
  },
  {
   "cell_type": "code",
   "execution_count": null,
   "metadata": {
    "colab": {
     "base_uri": "https://localhost:8080/"
    },
    "id": "36WQXeD-mvA6",
    "outputId": "e6ab5329-00f8-4060-c9af-92e8a9133abd"
   },
   "outputs": [],
   "source": [
    "print(pcaPredictionsDF.columns)\n"
   ]
  },
  {
   "cell_type": "code",
   "execution_count": null,
   "metadata": {
    "colab": {
     "base_uri": "https://localhost:8080/",
     "height": 337
    },
    "id": "ZluJKamLkAzY",
    "outputId": "749cbe57-73a4-430f-ce3f-4ded68da11eb"
   },
   "outputs": [],
   "source": [
    "# Create a scatter plot using hvPlot by setting\n",
    "# `x=\"PC1\"` and `y=\"PC2\"`.\n",
    "# Color the graph points with the labels found using K-Means and\n",
    "# add the crypto name in the `hover_cols` parameter to identify\n",
    "# the cryptocurrency represented by each data point.\n",
    "hvplot.extension(\"bokeh\")\n",
    "clusterPCAPlot = pcaPredictionsDF.hvplot.scatter(\n",
    "    x=\"PC1\",\n",
    "    y=\"PC2\",\n",
    "    by=\"PCA Predicted Cluster\",\n",
    "    hover_cols=[\"coin_id\"],\n",
    "    marker=[\"hex\", \"square\",\"cross\",\"circle\"],\n",
    "    title=\"Crypto Clusters Using PCA\"\n",
    ")\n",
    "clusterPCAPlot"
   ]
  },
  {
   "cell_type": "markdown",
   "metadata": {
    "id": "MxWGsHWKkAzY"
   },
   "source": [
    "### Visualize and Compare the Results\n",
    "\n",
    "In this section, you will visually analyze the cluster analysis results by contrasting the outcome with and without using the optimization techniques."
   ]
  },
  {
   "cell_type": "code",
   "execution_count": null,
   "metadata": {
    "colab": {
     "base_uri": "https://localhost:8080/",
     "height": 367
    },
    "id": "P7G9yTKkkAzZ",
    "outputId": "31c43b8e-b6ce-455c-db05-7883ccf89aea"
   },
   "outputs": [],
   "source": [
    "# Composite plot to contrast the Elbow\n",
    "hvplot.extension(\"bokeh\")\n",
    "elbowPlot + pcaElbowPlot\n"
   ]
  },
  {
   "cell_type": "code",
   "execution_count": null,
   "metadata": {
    "colab": {
     "base_uri": "https://localhost:8080/",
     "height": 367
    },
    "id": "CySSViFekAzZ",
    "outputId": "4372651b-52fc-4c28-f555-65c91dec5467"
   },
   "outputs": [],
   "source": [
    "# Composite plot to contrast the clusters\n",
    "hvplot.extension(\"bokeh\")\n",
    "clusterPlot + clusterPCAPlot"
   ]
  },
  {
   "cell_type": "markdown",
   "metadata": {
    "id": "C-MXoOCjkAzZ"
   },
   "source": [
    "#### Answer the following question:\n",
    "\n",
    "  * **Question:** After visually analyzing the cluster analysis results, what is the impact of using fewer features to cluster the data using K-Means?\n",
    "\n",
    "  * **Answer:** Less features can be used to get a similar like performance on the predictive models since 4 clusters are identified.\n",
    "  "
   ]
  }
 ],
 "metadata": {
  "colab": {
   "provenance": []
  },
  "kernelspec": {
   "display_name": "Python 3 (ipykernel)",
   "language": "python",
   "name": "python3"
  },
  "language_info": {
   "codemirror_mode": {
    "name": "ipython",
    "version": 3
   },
   "file_extension": ".py",
   "mimetype": "text/x-python",
   "name": "python",
   "nbconvert_exporter": "python",
   "pygments_lexer": "ipython3",
   "version": "3.9.13"
  },
  "nteract": {
   "version": "0.28.0"
  },
  "vscode": {
   "interpreter": {
    "hash": "40d3a090f54c6569ab1632332b64b2c03c39dcf918b08424e98f38b5ae0af88f"
   }
  }
 },
 "nbformat": 4,
 "nbformat_minor": 1
}
